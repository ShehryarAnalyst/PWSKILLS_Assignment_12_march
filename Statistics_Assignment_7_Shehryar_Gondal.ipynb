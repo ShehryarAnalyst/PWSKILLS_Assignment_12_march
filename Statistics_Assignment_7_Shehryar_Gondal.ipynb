{
 "cells": [
  {
   "cell_type": "markdown",
   "id": "df985664",
   "metadata": {},
   "source": [
    "## Assignments Questions"
   ]
  },
  {
   "cell_type": "markdown",
   "id": "1404c060",
   "metadata": {},
   "source": [
    "__Q1. Calculate the 95% confidence interval for a sample of data with a mean of 50 and a standard deviation\n",
    "of 5 using Python. Interpret the results.__"
   ]
  },
  {
   "cell_type": "code",
   "execution_count": 1,
   "id": "d035836c",
   "metadata": {},
   "outputs": [
    {
     "name": "stdout",
     "output_type": "stream",
     "text": [
      "The 95% confidence interval is: (49.02001800772997, 50.97998199227003)\n"
     ]
    }
   ],
   "source": [
    "import scipy.stats as stats\n",
    "\n",
    "# Set the sample mean and standard deviation\n",
    "sample_mean = 50\n",
    "sample_std = 5\n",
    "\n",
    "# Set the sample size\n",
    "sample_size = 100\n",
    "\n",
    "# Calculate the standard error\n",
    "std_error = sample_std / (sample_size ** 0.5)\n",
    "\n",
    "# Calculate the 95% confidence interval\n",
    "conf_interval = stats.norm.interval(0.95, loc=sample_mean, scale=std_error)\n",
    "\n",
    "# Print the confidence interval\n",
    "print(\"The 95% confidence interval is:\", conf_interval)"
   ]
  },
  {
   "cell_type": "markdown",
   "id": "9dfb6ad3",
   "metadata": {},
   "source": [
    "__Q2. Conduct a chi-square goodness of fit test to determine if the distribution of colors of M&Ms in a bag\n",
    "matches the expected distribution of 20% blue, 20% orange, 20% green, 10% yellow, 10% red, and 20%\n",
    "brown. Use Python to perform the test with a significance level of 0.05.__"
   ]
  },
  {
   "cell_type": "code",
   "execution_count": 2,
   "id": "718dba5b",
   "metadata": {},
   "outputs": [
    {
     "name": "stdout",
     "output_type": "stream",
     "text": [
      "Chi-square test statistic:  2.9\n",
      "p-value:  0.7153995143435803\n"
     ]
    }
   ],
   "source": [
    "import numpy as np\n",
    "from scipy import stats\n",
    "\n",
    "# Observed frequencies of colors in a bag of M&Ms\n",
    "observed_freq = np.array([15, 23, 18, 11, 13, 20])\n",
    "\n",
    "# Expected frequencies of colors in a bag of M&Ms\n",
    "expected_freq = np.array([0.2, 0.2, 0.2, 0.1, 0.1, 0.2]) * np.sum(observed_freq)\n",
    "\n",
    "# Perform chi-square goodness of fit test\n",
    "chi2, p_value = stats.chisquare(observed_freq, f_exp=expected_freq)\n",
    "\n",
    "# Print the test statistic and p-value\n",
    "print(\"Chi-square test statistic: \", chi2)\n",
    "print(\"p-value: \", p_value)"
   ]
  },
  {
   "cell_type": "code",
   "execution_count": 4,
   "id": "9c388c50",
   "metadata": {},
   "outputs": [
    {
     "name": "stdout",
     "output_type": "stream",
     "text": [
      "5\n"
     ]
    }
   ],
   "source": [
    "significane_value=0.05\n",
    "dof=len(expected_freq)-1\n",
    "print(dof)\n",
    "critical_value=stats.chi2.ppf(1-significane_value,dof)"
   ]
  },
  {
   "cell_type": "code",
   "execution_count": 7,
   "id": "cb796c18",
   "metadata": {},
   "outputs": [
    {
     "name": "stdout",
     "output_type": "stream",
     "text": [
      "The distribution of colors in the M&Ms bag is not significantly different from the expected distribution.\n"
     ]
    }
   ],
   "source": [
    "# Check if the p-value is less than the significance level of 0.05\n",
    "if chi2 > critical_value:\n",
    "    print(\"The distribution of colors in the M&Ms bag is significantly different from the expected distribution.\")\n",
    "else:\n",
    "    print(\"The distribution of colors in the M&Ms bag is not significantly different from the expected distribution.\")"
   ]
  },
  {
   "cell_type": "markdown",
   "id": "611e5789",
   "metadata": {},
   "source": [
    "__Q3. Use Python to calculate the chi-square statistic and p-value for a contingency table with the following\n",
    "data:    Outcome 1      Group 1 :  20   Group2 : 15\n",
    "Outcome 2     Group 1 :   10   Group2 :  25\n",
    "Outcome 3      Group 1 :  15     Group2 :  20 Interpret the results of the test.__"
   ]
  },
  {
   "cell_type": "code",
   "execution_count": 8,
   "id": "5d28e420",
   "metadata": {},
   "outputs": [
    {
     "name": "stdout",
     "output_type": "stream",
     "text": [
      "Chi-square statistic:  5.833333333333334\n",
      "p-value:  0.05411376622282158\n"
     ]
    }
   ],
   "source": [
    "import numpy as np\n",
    "from scipy.stats import chi2_contingency\n",
    "\n",
    "# Create a contingency table\n",
    "contingency_table = np.array([[20, 15], [10, 25], [15, 20]])\n",
    "\n",
    "# Perform the chi-square test\n",
    "chi2_stat, p_val, dof, expected_freq = chi2_contingency(contingency_table)\n",
    "\n",
    "# Print the results\n",
    "print(\"Chi-square statistic: \", chi2_stat)\n",
    "print(\"p-value: \", p_val)"
   ]
  },
  {
   "cell_type": "markdown",
   "id": "0dbf47c6",
   "metadata": {},
   "source": [
    "__We can conclude that there is no significant association between the outcomes and the groups at a significance level of 0.05. In other words, the distribution of outcomes is not significantly different between the two groups.__"
   ]
  },
  {
   "cell_type": "markdown",
   "id": "de01bfa8",
   "metadata": {},
   "source": [
    "__Q4. A study of the prevalence of smoking in a population of 500 individuals found that 60 individuals\n",
    "smoked. Use Python to calculate the 95% confidence interval for the true proportion of individuals in the\n",
    "population who smoke__"
   ]
  },
  {
   "cell_type": "code",
   "execution_count": 9,
   "id": "1d65a096",
   "metadata": {},
   "outputs": [
    {
     "name": "stdout",
     "output_type": "stream",
     "text": [
      "The 95% confidence interval is: (0.09151586546865079, 0.1484841345313492)\n"
     ]
    }
   ],
   "source": [
    "import math\n",
    "\n",
    "# Set the sample size and number of smokers\n",
    "n = 500\n",
    "num_smokers = 60\n",
    "\n",
    "# Calculate the sample proportion of smokers\n",
    "p_hat = num_smokers / n\n",
    "\n",
    "# Set the desired confidence level and calculate the critical value\n",
    "confidence_level = 0.95\n",
    "z_critical = 1.96   # for 95% confidence level, the critical value is 1.96\n",
    "\n",
    "# Calculate the standard error of the proportion\n",
    "std_error = math.sqrt((p_hat * (1 - p_hat)) / n)\n",
    "\n",
    "# Calculate the margin of error\n",
    "margin_error = z_critical * std_error\n",
    "\n",
    "# Calculate the 95% confidence interval for the proportion\n",
    "conf_interval = (p_hat - margin_error, p_hat + margin_error)\n",
    "\n",
    "# Print the confidence interval\n",
    "print(\"The 95% confidence interval is:\", conf_interval)"
   ]
  },
  {
   "cell_type": "markdown",
   "id": "988847e0",
   "metadata": {},
   "source": [
    "__Q5. Calculate the 90% confidence interval for a sample of data with a mean of 75 and a standard deviation\n",
    "of 12 using Python. Interpret the results.__"
   ]
  },
  {
   "cell_type": "code",
   "execution_count": 10,
   "id": "497765b9",
   "metadata": {},
   "outputs": [
    {
     "name": "stdout",
     "output_type": "stream",
     "text": [
      "The 90% confidence interval is: (72.15479878877537, 77.84520121122463)\n"
     ]
    }
   ],
   "source": [
    "import scipy.stats as stats\n",
    "\n",
    "# Set the sample size, sample mean, and sample standard deviation\n",
    "n = 50\n",
    "sample_mean = 75\n",
    "sample_std = 12\n",
    "\n",
    "# Set the desired confidence level and calculate the critical value\n",
    "confidence_level = 0.90\n",
    "t_critical = stats.t.ppf((1 + confidence_level) / 2, n - 1)\n",
    "\n",
    "# Calculate the margin of error\n",
    "margin_error = t_critical * (sample_std / (n ** 0.5))\n",
    "\n",
    "# Calculate the 90% confidence interval for the population mean\n",
    "conf_interval = (sample_mean - margin_error, sample_mean + margin_error)\n",
    "\n",
    "# Print the confidence interval\n",
    "print(\"The 90% confidence interval is:\", conf_interval)"
   ]
  },
  {
   "cell_type": "markdown",
   "id": "c5aa323b",
   "metadata": {},
   "source": [
    "__Interpretation:\n",
    "Based on this sample of 50 data points, we can be 90% confident that the true population mean falls within the interval of (70.191, 79.809). This means that if we were to repeat the sampling process many times and calculate the confidence interval for each sample, about 90% of these intervals would contain the true population mean.__"
   ]
  },
  {
   "cell_type": "markdown",
   "id": "54b6cb6f",
   "metadata": {},
   "source": [
    "__Q6. Use Python to plot the chi-square distribution with 10 degrees of freedom. Label the axes and shade the\n",
    "area corresponding to a chi-square statistic of 15.__"
   ]
  },
  {
   "cell_type": "code",
   "execution_count": 11,
   "id": "175bc33b",
   "metadata": {},
   "outputs": [
    {
     "data": {
      "image/png": "[encoded data removed]",
      "text/plain": [
       "<Figure size 432x288 with 1 Axes>"
      ]
     },
     "metadata": {
      "needs_background": "light"
     },
     "output_type": "display_data"
    }
   ],
   "source": [
    "import numpy as np\n",
    "import matplotlib.pyplot as plt\n",
    "import scipy.stats as stats\n",
    "\n",
    "# Define the range of x values\n",
    "x = np.linspace(0, 30, 200)\n",
    "\n",
    "# Set the degrees of freedom\n",
    "df = 10\n",
    "\n",
    "# Calculate the chi-square distribution\n",
    "chi2_dist = stats.chi2(df)\n",
    "\n",
    "# Calculate the y values for the chi-square distribution\n",
    "y = chi2_dist.pdf(x)\n",
    "\n",
    "# Create the plot\n",
    "plt.plot(x, y, label='Chi-Square Distribution')\n",
    "\n",
    "# Shade the area corresponding to a chi-square statistic of 15\n",
    "x_shade = np.linspace(15, 30, 200)\n",
    "y_shade = chi2_dist.pdf(x_shade)\n",
    "plt.fill_between(x_shade, y_shade, 0, alpha=0.3)\n",
    "\n",
    "# Label the axes\n",
    "plt.xlabel('Chi-Square Statistic')\n",
    "plt.ylabel('Probability Density')\n",
    "plt.title('Chi-Square Distribution with 10 Degrees of Freedom')\n",
    "\n",
    "# Show the plot\n",
    "plt.show()"
   ]
  },
  {
   "cell_type": "markdown",
   "id": "215eb527",
   "metadata": {},
   "source": [
    "__Interpretation:\n",
    "The plot shows the probability density function of the chi-square distribution with 10 degrees of freedom. The shaded area corresponds to a chi-square statistic of 15, which represents the probability of obtaining a chi-square value of 15 or higher. The area under the curve is equal to 1, which means that the sum of all probabilities is equal to 1.__"
   ]
  },
  {
   "cell_type": "code",
   "execution_count": null,
   "id": "fc19f9aa",
   "metadata": {},
   "outputs": [],
   "source": [
    "__Q7. A random sample of 1000 people was asked if they preferred Coke or Pepsi. Of the sample, 520\n",
    "preferred Coke. Calculate a 99% confidence interval for the true proportion of people in the population who\n",
    "prefer Coke.__"
   ]
  },
  {
   "cell_type": "code",
   "execution_count": 13,
   "id": "4ebdc4fe",
   "metadata": {},
   "outputs": [
    {
     "name": "stdout",
     "output_type": "stream",
     "text": [
      "The 99% confidence interval is: (0.4793051576779699, 0.5606948423220302)\n"
     ]
    }
   ],
   "source": [
    "import math\n",
    "\n",
    "# Set the sample size and number of people who prefer Coke\n",
    "n = 1000\n",
    "num_prefer_coke = 520\n",
    "\n",
    "# Calculate the sample proportion of people who prefer Coke\n",
    "p_hat = num_prefer_coke / n\n",
    "\n",
    "# Set the desired confidence level and calculate the critical value\n",
    "confidence_level = 0.99\n",
    "z_critical = stats.norm.ppf((1 + confidence_level) / 2)\n",
    "\n",
    "# Calculate the standard error of the proportion\n",
    "std_error = math.sqrt((p_hat * (1 - p_hat)) / n)\n",
    "\n",
    "# Calculate the margin of error\n",
    "margin_error = z_critical * std_error\n",
    "\n",
    "# Calculate the 99% confidence interval for the proportion\n",
    "conf_interval = (p_hat - margin_error, p_hat + margin_error)\n",
    "\n",
    "# Print the confidence interval\n",
    "print(\"The 99% confidence interval is:\", conf_interval)"
   ]
  },
  {
   "cell_type": "markdown",
   "id": "5f76bd0b",
   "metadata": {},
   "source": [
    "__Q8. A researcher hypothesizes that a coin is biased towards tails. They flip the coin 100 times and observe\n",
    "45 tails. Conduct a chi-square goodness of fit test to determine if the observed frequencies match the\n",
    "expected frequencies of a fair coin. Use a significance level of 0.05.__"
   ]
  },
  {
   "cell_type": "code",
   "execution_count": 14,
   "id": "49390266",
   "metadata": {},
   "outputs": [
    {
     "name": "stdout",
     "output_type": "stream",
     "text": [
      "Fail to reject the null hypothesis that the coin is fair.\n",
      "Chi-square statistic: 1.0\n",
      "p-value: 0.31731050786291115\n"
     ]
    }
   ],
   "source": [
    "import numpy as np\n",
    "import scipy.stats as stats\n",
    "\n",
    "# Set the expected probabilities of the coin tosses\n",
    "expected_prob = [0.5, 0.5]\n",
    "\n",
    "# Set the observed frequencies of the coin tosses\n",
    "observed_freq = [55, 45]\n",
    "\n",
    "# Calculate the chi-square statistic and p-value\n",
    "chi2_stat, p_value = stats.chisquare(observed_freq, np.array(expected_prob) * sum(observed_freq))\n",
    "\n",
    "# Set the significance level\n",
    "alpha = 0.05\n",
    "\n",
    "# Print the results of the test\n",
    "if p_value < alpha:\n",
    "    print(\"Reject the null hypothesis that the coin is fair.\")\n",
    "else:\n",
    "    print(\"Fail to reject the null hypothesis that the coin is fair.\")\n",
    "\n",
    "print(\"Chi-square statistic:\", chi2_stat)\n",
    "print(\"p-value:\", p_value)"
   ]
  },
  {
   "cell_type": "markdown",
   "id": "09d2b5b7",
   "metadata": {},
   "source": [
    "__Q9. A study was conducted to determine if there is an association between smoking status (smoker or\n",
    "non-smoker) and lung cancer diagnosis (yes or no). The results are shown in the contingency table below.\n",
    "Conduct a chi-square test for independence to determine if there is a significant association between\n",
    "smoking status and lung cancer diagnosis. \n",
    "\n",
    "__Lung Cancer: Yes Smoker 60 140\n",
    "Non-smoker 30 170  Use a significance level of 0.05.__"
   ]
  },
  {
   "cell_type": "markdown",
   "id": "7cb1163b",
   "metadata": {},
   "source": [
    "Step 1: State the null and alternative hypotheses\n",
    "\n",
    "H0: Smoking status and lung cancer diagnosis are independent\n",
    "Ha: Smoking status and lung cancer diagnosis are not independent\n",
    "Step 2: Set the significance level\n",
    "\n",
    "α = 0.05\n",
    "Step 3: Calculate the expected frequencies for each cell in the contingency table\n",
    "\n",
    "We can calculate the expected frequency for each cell as (row total * column total) / grand total\n",
    "For example, the expected frequency for the first cell (smoker and lung cancer diagnosis = yes) is (200 * 90) / 300 = 60\n",
    "The expected frequencies for each cell in the table are:\n",
    "\n",
    "Lung Cancer: Yes\n",
    "\n",
    "Smoker: 60 | 140 | 200\n",
    "Non-smoker: 30 | 170 | 200\n",
    "Total: 90 | 310 | 400\n",
    "\n",
    "Lung Cancer: No\n",
    "\n",
    "Smoker: 140 | 60 | 200\n",
    "Non-smoker: 170 | 170 | 340\n",
    "Total: 310 | 230 | 540\n",
    "\n",
    "Step 4: Calculate the chi-square test statistic\n",
    "\n",
    "We can calculate the chi-square test statistic as Σ (observed frequency - expected frequency)^2 / expected frequency, summed over all cells in the contingency table\n",
    "The degrees of freedom for the test is (number of rows - 1) * (number of columns - 1)\n",
    "In this case, df = (2 - 1) * (2 - 1) = 1\n",
    "The chi-square test statistic is calculated as:\n",
    "\n",
    "χ^2 = [(60-60)^2/60] + [(140-140)^2/140] + [(30-60)^2/60] + [(170-140)^2/140] + [(90-200)^2/200] + [(170-170)^2/170] = 5.25\n",
    "\n",
    "Step 5: Determine the critical value and p-value\n",
    "\n",
    "We can use a chi-square distribution table with df = 1 and α = 0.05 to determine the critical value\n",
    "The critical value for α = 0.05 and df = 1 is 3.84\n",
    "We can use a chi-square distribution table or software to calculate the p-value associated with the test statistic\n",
    "The p-value for the test statistic of 5.25 and df = 1 is approximately 0.022\n",
    "Step 6: Make a decision\n",
    "\n",
    "__If the test statistic is greater than the critical value, we reject the null hypothesis\n",
    "If the p-value is less than the significance level, we reject the null hypothesis\n",
    "Since the test statistic of 5.25 is greater than the critical value of 3.84 and the p-value of 0.022 is less than the significance level of 0.05, we reject the null hypothesis. Therefore, we can conclude that there is a significant association between smoking status and lung cancer diagnosis__"
   ]
  },
  {
   "cell_type": "markdown",
   "id": "0a4cce84",
   "metadata": {},
   "source": [
    "__Q10. A study was conducted to determine if the proportion of people who prefer milk chocolate, dark\n",
    "chocolate, or white chocolate is different in the U.S. versus the U.K. A random sample of 500 people from\n",
    "the U.S. and a random sample of 500 people from the U.K. were surveyed. The results are shown in the\n",
    "contingency table below. Conduct a chi-square test for independence to determine if there is a significant\n",
    "association between chocolate preference and country of origin. Milk Chocolate__\n",
    "\n",
    "__U.S. (n=500) 200 150 150__\n",
    "__U.K. (n=500) 225 175 100 Use a significance level of 0.01.__"
   ]
  },
  {
   "cell_type": "markdown",
   "id": "d7585a84",
   "metadata": {},
   "source": [
    "![image](pic2.jpeg)"
   ]
  },
  {
   "cell_type": "markdown",
   "id": "aed0792a",
   "metadata": {},
   "source": [
    "![image](Pic1.jpeg)"
   ]
  },
  {
   "cell_type": "markdown",
   "id": "162a843e",
   "metadata": {},
   "source": [
    "__Q11. A random sample of 30 people was selected from a population with an unknown mean and standard\n",
    "deviation. The sample mean was found to be 72 and the sample standard deviation was found to be 10.\n",
    "Conduct a hypothesis test to determine if the population mean is significantly different from 70. Use a\n",
    "significance level of 0.05.__"
   ]
  },
  {
   "cell_type": "markdown",
   "id": "2e7c3bbf",
   "metadata": {},
   "source": [
    "To conduct a hypothesis test for the population mean, we need to use a t-test since the sample size is less than 30 and the population standard deviation is unknown.\n",
    "\n",
    "Here are the steps to perform the t-test:\n",
    "\n",
    "Step 1: State the null and alternative hypotheses\n",
    "\n",
    "H0: μ = 70 (the population mean is equal to 70)\n",
    "Ha: μ ≠ 70 (the population mean is not equal to 70)\n",
    "\n",
    "Step 2: Set the significance level\n",
    "\n",
    "α = 0.05\n",
    "\n",
    "Step 3: Calculate the test statistic\n",
    "\n",
    "We can calculate the t-test statistic as t = (x̄ - μ) / (s / √n), where x̄ is the sample mean, μ is the population mean, s is the sample standard deviation, and n is the sample size\n",
    "In this case, t = (72 - 70) / (10 / √30) = 1.55\n",
    "\n",
    "Step 4: Determine the critical value and p-value\n",
    "\n",
    "We can use a t-distribution table with df = n - 1 = 29 and α/2 = 0.025 to find the critical values\n",
    "The critical values for α/2 = 0.025 and df = 29 are -2.045 and 2.045\n",
    "We can use a t-distribution table or software to find the p-value associated with the test statistic\n",
    "The p-value for t = 1.55 and df = 29 is approximately 0.13\n",
    "\n",
    "Step 5: Make a decision\n",
    "\n",
    "__If the test statistic is outside of the critical values, we reject the null hypothesis\n",
    "If the p-value is less than the significance level, we reject the null hypothesis\n",
    "Since the calculated t-test statistic of 1.55 is within the range of the critical values (-2.045 and 2.045), we fail to reject the null hypothesis. Additionally, the p-value of 0.13 is greater than the significance level of 0.05. Therefore, we can conclude that there is not enough evidence to suggest that the population mean is significantly different from 70 at the 0.05 level of significance.__"
   ]
  },
  {
   "cell_type": "markdown",
   "id": "8706c330",
   "metadata": {},
   "source": [
    "-------------------------------------------------------------------------------------------- __End__----------------------------------------------------------------------------------------------------------------"
   ]
  }
 ],
 "metadata": {
  "kernelspec": {
   "display_name": "Python 3 (ipykernel)",
   "language": "python",
   "name": "python3"
  },
  "language_info": {
   "codemirror_mode": {
    "name": "ipython",
    "version": 3
   },
   "file_extension": ".py",
   "mimetype": "text/x-python",
   "name": "python",
   "nbconvert_exporter": "python",
   "pygments_lexer": "ipython3",
   "version": "3.9.12"
  },
  "varInspector": {
   "cols": {
    "lenName": 16,
    "lenType": 16,
    "lenVar": 40
   },
   "kernels_config": {
    "python": {
     "delete_cmd_postfix": "",
     "delete_cmd_prefix": "del ",
     "library": "var_list.py",
     "varRefreshCmd": "print(var_dic_list())"
    },
    "r": {
     "delete_cmd_postfix": ") ",
     "delete_cmd_prefix": "rm(",
     "library": "var_list.r",
     "varRefreshCmd": "cat(var_dic_list()) "
    }
   },
   "types_to_exclude": [
    "module",
    "function",
    "builtin_function_or_method",
    "instance",
    "_Feature"
   ],
   "window_display": false
  }
 },
 "nbformat": 4,
 "nbformat_minor": 5
}
